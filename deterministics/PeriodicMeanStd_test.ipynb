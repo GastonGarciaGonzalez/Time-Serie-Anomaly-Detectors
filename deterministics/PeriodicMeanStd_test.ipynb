{
 "cells": [
  {
   "cell_type": "code",
   "execution_count": 59,
   "metadata": {},
   "outputs": [],
   "source": [
    "from predictors import PeriodicMeanStd\n",
    "import pandas as pd \n",
    "import numpy as np"
   ]
  },
  {
   "cell_type": "code",
   "execution_count": 60,
   "metadata": {},
   "outputs": [],
   "source": [
    "model = PeriodicMeanStd(flag_week=True, flag_hour=True, flag_minute=True)"
   ]
  },
  {
   "cell_type": "markdown",
   "metadata": {},
   "source": [
    "# Train"
   ]
  },
  {
   "cell_type": "code",
   "execution_count": 61,
   "metadata": {},
   "outputs": [],
   "source": [
    "#Data train\n",
    "path = \"/home/gastong/Documentos/TELCO/v0/\"\n",
    "filenames = [\"TELCO_data_2021_01.zip\", \"TELCO_data_2021_02.zip\", \"TELCO_data_2021_03.zip\"]\n",
    "data_train = pd.DataFrame()\n",
    "for i in range(3):\n",
    "    data_train = pd.concat([data_train, pd.read_csv(path+filenames[i])])\n"
   ]
  },
  {
   "cell_type": "code",
   "execution_count": 62,
   "metadata": {},
   "outputs": [],
   "source": [
    "def set_index(dataRaw):\n",
    "    col_time = dataRaw.columns[0]\n",
    "    dataRaw[col_time] = pd.to_datetime(dataRaw[col_time])\n",
    "    dataRaw = dataRaw.set_index(col_time)\n",
    "    return dataRaw\n",
    "\n",
    "def fill(dataRaw):\n",
    "    X = dataRaw.copy()\n",
    "    X.fillna(method='ffill', inplace=True) \n",
    "    X.fillna(method='bfill', inplace=True)\n",
    "    return X\n",
    "\n",
    "def outliers(dataRaw, max_std):\n",
    "    X = dataRaw.copy()\n",
    "    \n",
    "    if outliers:\n",
    "        z_scores = (X-X.mean())/X.std()\n",
    "        abs_z_scores = np.abs(z_scores)\n",
    "        filtered_entries = (abs_z_scores > max_std)\n",
    "        X = X.mask(filtered_entries)\n",
    "    return X"
   ]
  },
  {
   "cell_type": "code",
   "execution_count": 63,
   "metadata": {},
   "outputs": [],
   "source": [
    "data_train = outliers(fill(set_index(data_train)), 5)"
   ]
  },
  {
   "cell_type": "code",
   "execution_count": 64,
   "metadata": {},
   "outputs": [
    {
     "data": {
      "text/plain": [
       "<predictors.PeriodicMeanStd at 0x7f564f84f880>"
      ]
     },
     "execution_count": 64,
     "metadata": {},
     "output_type": "execute_result"
    }
   ],
   "source": [
    "model.fit(data_train)"
   ]
  },
  {
   "cell_type": "markdown",
   "metadata": {},
   "source": [
    "# Operation Point"
   ]
  },
  {
   "cell_type": "code",
   "execution_count": 65,
   "metadata": {},
   "outputs": [
    {
     "data": {
      "text/plain": [
       "False"
      ]
     },
     "execution_count": 65,
     "metadata": {},
     "output_type": "execute_result"
    }
   ],
   "source": [
    "model.flag_day == True"
   ]
  },
  {
   "cell_type": "code",
   "execution_count": 66,
   "metadata": {},
   "outputs": [],
   "source": [
    "#Data val\n",
    "filenames = \"TELCO_data_2021_04.zip\"\n",
    "labels_filenames = \"TELCO_labels_2021_04.zip\"\n",
    "\n",
    "data_val = pd.read_csv(path+filenames)\n",
    "labels_val = pd.read_csv(path+labels_filenames)"
   ]
  },
  {
   "cell_type": "code",
   "execution_count": 67,
   "metadata": {},
   "outputs": [
    {
     "ename": "IndexError",
     "evalue": "list index out of range",
     "output_type": "error",
     "traceback": [
      "\u001b[0;31m---------------------------------------------------------------------------\u001b[0m",
      "\u001b[0;31mIndexError\u001b[0m                                Traceback (most recent call last)",
      "Cell \u001b[0;32mIn [67], line 1\u001b[0m\n\u001b[0;32m----> 1\u001b[0m model\u001b[39m.\u001b[39;49malpha_selection(data_val, labels_val, custom_metrics\u001b[39m=\u001b[39;49m\u001b[39mTrue\u001b[39;49;00m, max_alpha\u001b[39m=\u001b[39;49m\u001b[39m5\u001b[39;49m)\n",
      "File \u001b[0;32m~/Documentos/Time-Serie-Anomaly-Detectors/deterministics/predictors.py:109\u001b[0m, in \u001b[0;36mPeriodicMeanStd.alpha_selection\u001b[0;34m(self, df, df_y, load_model, path, custom_metrics, al, cardinality, bias, max_alpha)\u001b[0m\n\u001b[1;32m    107\u001b[0m num \u001b[39m=\u001b[39m df\u001b[39m.\u001b[39mshape[\u001b[39m0\u001b[39m]\n\u001b[1;32m    108\u001b[0m \u001b[39mfor\u001b[39;00m i \u001b[39min\u001b[39;00m \u001b[39mrange\u001b[39m(num):\n\u001b[0;32m--> 109\u001b[0m     output_mean[i:i\u001b[39m+\u001b[39m\u001b[39m1\u001b[39m] \u001b[39m=\u001b[39m periodic_mean_aux\u001b[39m.\u001b[39mloc[(\u001b[39mself\u001b[39m\u001b[39m.\u001b[39mconditions[\u001b[39m0\u001b[39m][i], \u001b[39mself\u001b[39;49m\u001b[39m.\u001b[39;49mconditions[\u001b[39m1\u001b[39;49m][i], \u001b[39mself\u001b[39m\u001b[39m.\u001b[39mconditions[\u001b[39m2\u001b[39m][i])]\n\u001b[1;32m    110\u001b[0m     output_std[i:i\u001b[39m+\u001b[39m\u001b[39m1\u001b[39m] \u001b[39m=\u001b[39m periodic_std_aux\u001b[39m.\u001b[39mloc[(\u001b[39mself\u001b[39m\u001b[39m.\u001b[39mconditions[\u001b[39m0\u001b[39m][i], \u001b[39mself\u001b[39m\u001b[39m.\u001b[39mconditions[\u001b[39m1\u001b[39m][i], \u001b[39mself\u001b[39m\u001b[39m.\u001b[39mconditions[\u001b[39m2\u001b[39m][i])]\n\u001b[1;32m    112\u001b[0m \u001b[39m# Data\u001b[39;00m\n",
      "\u001b[0;31mIndexError\u001b[0m: list index out of range"
     ]
    }
   ],
   "source": [
    "model.alpha_selection(data_val, labels_val, custom_metrics=True, max_alpha=5)"
   ]
  },
  {
   "cell_type": "code",
   "execution_count": null,
   "metadata": {},
   "outputs": [
    {
     "data": {
      "text/plain": [
       "1"
      ]
     },
     "execution_count": 36,
     "metadata": {},
     "output_type": "execute_result"
    }
   ],
   "source": [
    "len(model.conditions)"
   ]
  }
 ],
 "metadata": {
  "kernelspec": {
   "display_name": "Python 3.9.15 ('dcvae')",
   "language": "python",
   "name": "python3"
  },
  "language_info": {
   "codemirror_mode": {
    "name": "ipython",
    "version": 3
   },
   "file_extension": ".py",
   "mimetype": "text/x-python",
   "name": "python",
   "nbconvert_exporter": "python",
   "pygments_lexer": "ipython3",
   "version": "3.9.15"
  },
  "orig_nbformat": 4,
  "vscode": {
   "interpreter": {
    "hash": "5bfaa799bac98ff28901cd48eb7baee84364a340300e99e0af814e5c65b546cf"
   }
  }
 },
 "nbformat": 4,
 "nbformat_minor": 2
}
