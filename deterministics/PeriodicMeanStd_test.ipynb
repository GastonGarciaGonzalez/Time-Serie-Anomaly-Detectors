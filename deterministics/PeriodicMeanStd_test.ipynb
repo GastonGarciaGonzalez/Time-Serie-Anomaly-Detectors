{
 "cells": [
  {
   "cell_type": "code",
   "execution_count": 1,
   "metadata": {},
   "outputs": [],
   "source": [
    "from predictors import PeriodicMeanStd\n",
    "import pandas as pd "
   ]
  },
  {
   "cell_type": "code",
   "execution_count": 3,
   "metadata": {},
   "outputs": [],
   "source": [
    "model = PeriodicMeanStd(flag_week=True, flag_hour=True, flag_minute=True)"
   ]
  },
  {
   "cell_type": "code",
   "execution_count": 6,
   "metadata": {},
   "outputs": [],
   "source": [
    "#Data train\n",
    "path = \"/home/gastong/Documentos/TELCO/v0/\"\n",
    "filenames = [\"TELCO_data_2021_01.zip\", \"TELCO_data_2021_02.zip\", \"TELCO_data_2021_03.zip\"]\n",
    "data_train = pd.DataFrame()\n",
    "for i in range(3):\n",
    "    data_train = pd.concat([data_train, pd.read_csv(path+filenames[i])])\n"
   ]
  },
  {
   "cell_type": "code",
   "execution_count": null,
   "metadata": {},
   "outputs": [],
   "source": []
  }
 ],
 "metadata": {
  "kernelspec": {
   "display_name": "Python 3.9.15 ('dcvae')",
   "language": "python",
   "name": "python3"
  },
  "language_info": {
   "codemirror_mode": {
    "name": "ipython",
    "version": 3
   },
   "file_extension": ".py",
   "mimetype": "text/x-python",
   "name": "python",
   "nbconvert_exporter": "python",
   "pygments_lexer": "ipython3",
   "version": "3.9.15"
  },
  "orig_nbformat": 4,
  "vscode": {
   "interpreter": {
    "hash": "5bfaa799bac98ff28901cd48eb7baee84364a340300e99e0af814e5c65b546cf"
   }
  }
 },
 "nbformat": 4,
 "nbformat_minor": 2
}
