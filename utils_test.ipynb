{
 "cells": [
  {
   "cell_type": "code",
   "execution_count": 1,
   "metadata": {},
   "outputs": [],
   "source": [
    "import numpy as np\n",
    "import pandas as pd\n",
    "from utils import set_index, cut_and_shuffle"
   ]
  },
  {
   "cell_type": "code",
   "execution_count": 2,
   "metadata": {},
   "outputs": [],
   "source": [
    "#path = \"/home/gastong/Documentos/TELCO/v0/\" #Rosaluna\n",
    "path = \"/usuario/Documents/Facultad/Doctorado/Datasets/TELCO/\" #MSI\n",
    "filenames = [\"TELCO_data_2021_01.zip\"]\n",
    "labels_filenames = [\"TELCO_labels_2021_01.zip\"]\n",
    "\n",
    "data_train = pd.DataFrame()\n",
    "labels_train = pd.DataFrame()\n",
    "\n",
    "for i in range(len(filenames)):\n",
    "    data_train = pd.concat([data_train, pd.read_csv(path+filenames[i])])\n",
    "    labels_train = pd.concat([labels_train, pd.read_csv(path+labels_filenames[i])])"
   ]
  },
  {
   "cell_type": "code",
   "execution_count": 3,
   "metadata": {},
   "outputs": [],
   "source": [
    "data_train = set_index(data_train)\n",
    "labels_train = set_index(labels_train)"
   ]
  },
  {
   "cell_type": "code",
   "execution_count": 4,
   "metadata": {},
   "outputs": [],
   "source": [
    "sam_val, sam_ix, sam_class = cut_and_shuffle(data_train, T=5)"
   ]
  },
  {
   "cell_type": "code",
   "execution_count": 9,
   "metadata": {},
   "outputs": [
    {
     "data": {
      "text/plain": [
       "8924"
      ]
     },
     "execution_count": 9,
     "metadata": {},
     "output_type": "execute_result"
    }
   ],
   "source": [
    "len(sam_val)"
   ]
  },
  {
   "cell_type": "code",
   "execution_count": 10,
   "metadata": {},
   "outputs": [
    {
     "data": {
      "text/plain": [
       "8928"
      ]
     },
     "execution_count": 10,
     "metadata": {},
     "output_type": "execute_result"
    }
   ],
   "source": [
    "len(data_train)"
   ]
  }
 ],
 "metadata": {
  "kernelspec": {
   "display_name": "vaecnn",
   "language": "python",
   "name": "python3"
  },
  "language_info": {
   "codemirror_mode": {
    "name": "ipython",
    "version": 3
   },
   "file_extension": ".py",
   "mimetype": "text/x-python",
   "name": "python",
   "nbconvert_exporter": "python",
   "pygments_lexer": "ipython3",
   "version": "3.9.12"
  },
  "orig_nbformat": 4,
  "vscode": {
   "interpreter": {
    "hash": "bbfb6f814e359b0ece3ee0ecdd2047c2a8d2d7c42513350f9251085e90cca6f3"
   }
  }
 },
 "nbformat": 4,
 "nbformat_minor": 2
}
